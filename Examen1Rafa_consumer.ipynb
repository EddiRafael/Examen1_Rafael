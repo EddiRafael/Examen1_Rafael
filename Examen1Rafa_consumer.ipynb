{
  "nbformat": 4,
  "nbformat_minor": 0,
  "metadata": {
    "colab": {
      "provenance": [],
      "authorship_tag": "ABX9TyPqLHZY5q7VVKc+MOEbz/GI",
      "include_colab_link": true
    },
    "kernelspec": {
      "name": "python3",
      "display_name": "Python 3"
    },
    "language_info": {
      "name": "python"
    }
  },
  "cells": [
    {
      "cell_type": "markdown",
      "metadata": {
        "id": "view-in-github",
        "colab_type": "text"
      },
      "source": [
        "<a href=\"https://colab.research.google.com/github/EddiRafael/Examen1_Rafael/blob/main/Examen1Rafa_consumer.ipynb\" target=\"_parent\"><img src=\"https://colab.research.google.com/assets/colab-badge.svg\" alt=\"Open In Colab\"/></a>"
      ]
    },
    {
      "cell_type": "code",
      "execution_count": 1,
      "metadata": {
        "id": "PVQ72N0XA4QQ"
      },
      "outputs": [],
      "source": [
        "#importamos librerias \n",
        "import pandas as pd\n",
        "import numpy as np\n",
        "import matplotlib.pyplot as plt"
      ]
    },
    {
      "cell_type": "code",
      "source": [
        "#Cargar archivo csv desde equipo\n",
        "from google.colab import files\n",
        "files.upload()"
      ],
      "metadata": {
        "id": "_1wKZa_3Cgzk"
      },
      "execution_count": null,
      "outputs": []
    },
    {
      "cell_type": "code",
      "source": [
        "#cargar desde un archivo .xls sin indice\n",
        "Consumer= pd.read_excel('consumer_mit_lift_lab.xlsx')\n",
        "Consumer.head(20)"
      ],
      "metadata": {
        "id": "xW-HUo1_Cxxs"
      },
      "execution_count": null,
      "outputs": []
    },
    {
      "cell_type": "code",
      "source": [
        "#indentificar valores nulos \n",
        "valores_nulos=Consumer.isnull().sum()\n",
        "valores_nulos"
      ],
      "metadata": {
        "id": "7H3ywAAdENc8"
      },
      "execution_count": null,
      "outputs": []
    },
    {
      "cell_type": "code",
      "source": [
        "#realizamos copia del codigo \n",
        "Consumer_Sin_Nulos=Consumer.copy()"
      ],
      "metadata": {
        "id": "YYbQDOqkEVGz"
      },
      "execution_count": 7,
      "outputs": []
    },
    {
      "cell_type": "code",
      "source": [
        "#sustituyo los valores nulos por un string \n",
        "Consumer_Sin_Nulos[\"300_did_not_find\"]=Consumer_Sin_Nulos[\"300_did_not_find\"].fillna(\"No Respondió\")\n",
        "Consumer_Sin_Nulos"
      ],
      "metadata": {
        "id": "3iTBGb2BwRJx"
      },
      "execution_count": null,
      "outputs": []
    },
    {
      "cell_type": "code",
      "source": [
        "#volvemos a indentificar valores nulos\n",
        "valores_nulos=Consumer_Sin_Nulos.isnull().sum()\n",
        "valores_nulos"
      ],
      "metadata": {
        "id": "73pASAaYwzhu"
      },
      "execution_count": null,
      "outputs": []
    },
    {
      "cell_type": "code",
      "source": [
        "#indentificar valores nulos de todo el archivo\n",
        "valores_nulos=Consumer_Sin_Nulos.isnull().sum().sum()\n",
        "valores_nulos"
      ],
      "metadata": {
        "colab": {
          "base_uri": "https://localhost:8080/"
        },
        "id": "-idEykABw-nD",
        "outputId": "0603a91b-b41e-44b5-f1c8-8124053df18b"
      },
      "execution_count": 10,
      "outputs": [
        {
          "output_type": "execute_result",
          "data": {
            "text/plain": [
              "236"
            ]
          },
          "metadata": {},
          "execution_count": 10
        }
      ]
    },
    {
      "cell_type": "code",
      "source": [
        "#sustituyo los valores nulos por un string en concreto\n",
        "Consumer_Sin_Nulos[\"284_additional_products_store\"]=Consumer_Sin_Nulos[\"284_additional_products_store\"].fillna(\"No Respondió\")\n",
        "Consumer_Sin_Nulos"
      ],
      "metadata": {
        "id": "zMO0qrNNxGBS"
      },
      "execution_count": null,
      "outputs": []
    },
    {
      "cell_type": "code",
      "source": [
        "#indentificar valores nulos por columnas \n",
        "valores_nulos=Consumer_Sin_Nulos.isnull().sum()\n",
        "valores_nulos"
      ],
      "metadata": {
        "id": "8oagYJ2NyII3"
      },
      "execution_count": null,
      "outputs": []
    },
    {
      "cell_type": "code",
      "source": [
        "#indentificar valores nulos totales\n",
        "valores_nulos=Consumer_Sin_Nulos.isnull().sum().sum()\n",
        "valores_nulos"
      ],
      "metadata": {
        "colab": {
          "base_uri": "https://localhost:8080/"
        },
        "id": "cN9S-BfayLzj",
        "outputId": "57eb6e03-cbe3-4c77-8e9f-74024584e242"
      },
      "execution_count": 13,
      "outputs": [
        {
          "output_type": "execute_result",
          "data": {
            "text/plain": [
              "125"
            ]
          },
          "metadata": {},
          "execution_count": 13
        }
      ]
    },
    {
      "cell_type": "code",
      "source": [
        "#quinto metodo:sustituir valores nulos hacia atras hacia adelante\n",
        "Consumer_Sin_Nulos[\"305_electricity_bill_store\"]=Consumer_Sin_Nulos[\"305_electricity_bill_store\"].fillna(method=\"ffill\")\n",
        "Consumer_Sin_Nulos"
      ],
      "metadata": {
        "id": "f1a5A7mmyYBY"
      },
      "execution_count": null,
      "outputs": []
    },
    {
      "cell_type": "code",
      "source": [
        "#indentificar valores nulos por columnas \n",
        "valores_nulos=Consumer_Sin_Nulos.isnull().sum()\n",
        "valores_nulos"
      ],
      "metadata": {
        "id": "onKDXIsJyaxN"
      },
      "execution_count": null,
      "outputs": []
    },
    {
      "cell_type": "code",
      "source": [
        "#Sexto método de sustitucion: sustituir valores nulos hacia atras\n",
        "Consumer_Sin_Nulos[\"306_water_bill_store\"]=Consumer_Sin_Nulos[\"306_water_bill_store\"].fillna(method=\"bfill\")\n",
        "Consumer_Sin_Nulos"
      ],
      "metadata": {
        "id": "xwXfgT1NyiFl"
      },
      "execution_count": null,
      "outputs": []
    },
    {
      "cell_type": "code",
      "source": [
        "#indentificar valores nulos por columnas \n",
        "valores_nulos=Consumer_Sin_Nulos.isnull().sum()\n",
        "valores_nulos"
      ],
      "metadata": {
        "id": "HWeYSEy_yoAU"
      },
      "execution_count": null,
      "outputs": []
    },
    {
      "cell_type": "code",
      "source": [
        "#indentificar valores nulos totales\n",
        "valores_nulos=Consumer_Sin_Nulos.isnull().sum().sum()\n",
        "valores_nulos"
      ],
      "metadata": {
        "colab": {
          "base_uri": "https://localhost:8080/"
        },
        "id": "J84INe0xy3nS",
        "outputId": "ad1bde0c-86d3-4d41-cd61-0558c8caa4a7"
      },
      "execution_count": 18,
      "outputs": [
        {
          "output_type": "execute_result",
          "data": {
            "text/plain": [
              "114"
            ]
          },
          "metadata": {},
          "execution_count": 18
        }
      ]
    },
    {
      "cell_type": "code",
      "source": [
        "#Sexto método de sustitucion: sustituir valores nulos hacia atras\n",
        "Consumer_Sin_Nulos[\"307_gas_bill_store\"]=Consumer_Sin_Nulos[\"307_gas_bill_store\"].fillna(method=\"bfill\")\n",
        "Consumer_Sin_Nulos"
      ],
      "metadata": {
        "id": "2DAKzcsnzxmW"
      },
      "execution_count": null,
      "outputs": []
    },
    {
      "cell_type": "code",
      "source": [
        "#indentificar valores nulos por columnas \n",
        "valores_nulos=Consumer_Sin_Nulos.isnull().sum()\n",
        "valores_nulos"
      ],
      "metadata": {
        "id": "DPSumlFyz103"
      },
      "execution_count": null,
      "outputs": []
    },
    {
      "cell_type": "code",
      "source": [
        "#indentificar valores nulos totales\n",
        "valores_nulos=Consumer_Sin_Nulos.isnull().sum().sum()\n",
        "valores_nulos"
      ],
      "metadata": {
        "colab": {
          "base_uri": "https://localhost:8080/"
        },
        "id": "bgGTxKOgz-n_",
        "outputId": "77ceab05-da51-49d6-97cd-54e697dde5c7"
      },
      "execution_count": 22,
      "outputs": [
        {
          "output_type": "execute_result",
          "data": {
            "text/plain": [
              "109"
            ]
          },
          "metadata": {},
          "execution_count": 22
        }
      ]
    },
    {
      "cell_type": "code",
      "source": [
        "#quinto metodo:sustituir valores nulos hacia atras hacia adelante\n",
        "Consumer_Sin_Nulos[\"308_topups_in_store\"]=Consumer_Sin_Nulos[\"308_topups_in_store\"].fillna(method=\"ffill\")\n",
        "Consumer_Sin_Nulos"
      ],
      "metadata": {
        "id": "1qbxc-GZz8Om"
      },
      "execution_count": null,
      "outputs": []
    },
    {
      "cell_type": "code",
      "source": [
        "#indentificar valores nulos por columnas \n",
        "valores_nulos=Consumer_Sin_Nulos.isnull().sum()\n",
        "valores_nulos"
      ],
      "metadata": {
        "id": "36KgM0EU0Cy7"
      },
      "execution_count": null,
      "outputs": []
    },
    {
      "cell_type": "code",
      "source": [
        "#indentificar valores nulos totales\n",
        "valores_nulos=Consumer_Sin_Nulos.isnull().sum().sum()\n",
        "valores_nulos"
      ],
      "metadata": {
        "colab": {
          "base_uri": "https://localhost:8080/"
        },
        "id": "yB0oFY5s0G7U",
        "outputId": "e03e0b04-36f7-43db-8ea2-2bc10b531504"
      },
      "execution_count": 27,
      "outputs": [
        {
          "output_type": "execute_result",
          "data": {
            "text/plain": [
              "97"
            ]
          },
          "metadata": {},
          "execution_count": 27
        }
      ]
    },
    {
      "cell_type": "code",
      "source": [
        "#sustituyo los valores nulos por un string en concreto\n",
        "Consumer_Sin_Nulos[\"304_additional_services_store\"]=Consumer_Sin_Nulos[\"304_additional_services_store\"].fillna(\"No contestó\")\n",
        "Consumer_Sin_Nulos"
      ],
      "metadata": {
        "id": "8DAfG1HA0TNp"
      },
      "execution_count": null,
      "outputs": []
    },
    {
      "cell_type": "code",
      "source": [
        "#indentificar valores nulos por columnas \n",
        "valores_nulos=Consumer_Sin_Nulos.isnull().sum()\n",
        "valores_nulos"
      ],
      "metadata": {
        "id": "L41agR7X0Yh7"
      },
      "execution_count": null,
      "outputs": []
    },
    {
      "cell_type": "code",
      "source": [
        "#indentificar valores nulos totales\n",
        "valores_nulos=Consumer_Sin_Nulos.isnull().sum().sum()\n",
        "valores_nulos"
      ],
      "metadata": {
        "colab": {
          "base_uri": "https://localhost:8080/"
        },
        "id": "e0XooLS40bFK",
        "outputId": "ee2f074d-1922-4db7-baba-0d719bad399e"
      },
      "execution_count": 35,
      "outputs": [
        {
          "output_type": "execute_result",
          "data": {
            "text/plain": [
              "11"
            ]
          },
          "metadata": {},
          "execution_count": 35
        }
      ]
    },
    {
      "cell_type": "code",
      "source": [
        "#sustituyo los valores nulos por un string en concreto\n",
        "Consumer_Sin_Nulos[\"storefront_picture_just_once_if_possible\"]=Consumer_Sin_Nulos[\"storefront_picture_just_once_if_possible\"].fillna(\"No fue posible\")\n",
        "Consumer_Sin_Nulos"
      ],
      "metadata": {
        "id": "K_ZLXLD41Vko"
      },
      "execution_count": null,
      "outputs": []
    },
    {
      "cell_type": "code",
      "source": [
        "#indentificar valores nulos por columnas \n",
        "valores_nulos=Consumer_Sin_Nulos.isnull().sum()\n",
        "valores_nulos"
      ],
      "metadata": {
        "id": "-mlrLy891XtW"
      },
      "execution_count": null,
      "outputs": []
    },
    {
      "cell_type": "code",
      "source": [
        "#indentificar valores nulos totales\n",
        "valores_nulos=Consumer_Sin_Nulos.isnull().sum().sum()\n",
        "valores_nulos"
      ],
      "metadata": {
        "colab": {
          "base_uri": "https://localhost:8080/"
        },
        "id": "wijcN8Qe1gI-",
        "outputId": "4666c714-161c-40d6-eaaa-d5eefce1eba9"
      },
      "execution_count": 38,
      "outputs": [
        {
          "output_type": "execute_result",
          "data": {
            "text/plain": [
              "0"
            ]
          },
          "metadata": {},
          "execution_count": 38
        }
      ]
    },
    {
      "cell_type": "code",
      "source": [
        "#convertir a archivo xlsx\n",
        "Consumer_Sin_Nulos.to_excel(\"Consumer_Sin_Nulos.xlsx\")"
      ],
      "metadata": {
        "id": "hKdw5uOM1_dV"
      },
      "execution_count": 39,
      "outputs": []
    },
    {
      "cell_type": "code",
      "source": [
        "#descargar archivo filtrado en xlsx\n",
        "from google.colab import files\n",
        "files.download(\"Consumer_Sin_Nulos.xlsx\")"
      ],
      "metadata": {
        "colab": {
          "base_uri": "https://localhost:8080/",
          "height": 17
        },
        "id": "G0IqZTZx2ECj",
        "outputId": "b9c42ec0-3bb9-4294-ee13-a848dc178f7f"
      },
      "execution_count": 40,
      "outputs": [
        {
          "output_type": "display_data",
          "data": {
            "text/plain": [
              "<IPython.core.display.Javascript object>"
            ],
            "application/javascript": [
              "\n",
              "    async function download(id, filename, size) {\n",
              "      if (!google.colab.kernel.accessAllowed) {\n",
              "        return;\n",
              "      }\n",
              "      const div = document.createElement('div');\n",
              "      const label = document.createElement('label');\n",
              "      label.textContent = `Downloading \"${filename}\": `;\n",
              "      div.appendChild(label);\n",
              "      const progress = document.createElement('progress');\n",
              "      progress.max = size;\n",
              "      div.appendChild(progress);\n",
              "      document.body.appendChild(div);\n",
              "\n",
              "      const buffers = [];\n",
              "      let downloaded = 0;\n",
              "\n",
              "      const channel = await google.colab.kernel.comms.open(id);\n",
              "      // Send a message to notify the kernel that we're ready.\n",
              "      channel.send({})\n",
              "\n",
              "      for await (const message of channel.messages) {\n",
              "        // Send a message to notify the kernel that we're ready.\n",
              "        channel.send({})\n",
              "        if (message.buffers) {\n",
              "          for (const buffer of message.buffers) {\n",
              "            buffers.push(buffer);\n",
              "            downloaded += buffer.byteLength;\n",
              "            progress.value = downloaded;\n",
              "          }\n",
              "        }\n",
              "      }\n",
              "      const blob = new Blob(buffers, {type: 'application/binary'});\n",
              "      const a = document.createElement('a');\n",
              "      a.href = window.URL.createObjectURL(blob);\n",
              "      a.download = filename;\n",
              "      div.appendChild(a);\n",
              "      a.click();\n",
              "      div.remove();\n",
              "    }\n",
              "  "
            ]
          },
          "metadata": {}
        },
        {
          "output_type": "display_data",
          "data": {
            "text/plain": [
              "<IPython.core.display.Javascript object>"
            ],
            "application/javascript": [
              "download(\"download_d21d5184-c24b-4dfe-857b-7a39f9636211\", \"Consumer_Sin_Nulos.xlsx\", 32642)"
            ]
          },
          "metadata": {}
        }
      ]
    },
    {
      "cell_type": "markdown",
      "source": [
        "SUSTITUCION DE OUTLIERS"
      ],
      "metadata": {
        "id": "I6gtUkaJ2oIy"
      }
    },
    {
      "cell_type": "code",
      "source": [
        "Consumers_Filtrado=Consumer_Sin_Nulos.copy()"
      ],
      "metadata": {
        "id": "5RZGqVPK2tWB"
      },
      "execution_count": 41,
      "outputs": []
    },
    {
      "cell_type": "code",
      "source": [
        "#Identificamos las variables no numéricas para eliminar columnas incecesarias \n",
        "#Verificamos información del DataFrame\n",
        "Consumers_Filtrado.info()"
      ],
      "metadata": {
        "colab": {
          "base_uri": "https://localhost:8080/"
        },
        "id": "U3_Zutzt2xOu",
        "outputId": "2ac7678c-4bac-4b9a-8c26-eb08b5b6821b"
      },
      "execution_count": 43,
      "outputs": [
        {
          "output_type": "stream",
          "name": "stdout",
          "text": [
            "<class 'pandas.core.frame.DataFrame'>\n",
            "RangeIndex: 115 entries, 0 to 114\n",
            "Data columns (total 36 columns):\n",
            " #   Column                                    Non-Null Count  Dtype  \n",
            "---  ------                                    --------------  -----  \n",
            " 0   _record_id                                115 non-null    object \n",
            " 1   _title                                    115 non-null    object \n",
            " 2   _server_updated_at                        115 non-null    object \n",
            " 3   _updated_by                               115 non-null    object \n",
            " 4   _geometry                                 115 non-null    object \n",
            " 5   _latitude                                 115 non-null    float64\n",
            " 6   _longitude                                115 non-null    float64\n",
            " 7   282_payment_method_that_purchase          115 non-null    object \n",
            " 8   283_fulfill_needs                         115 non-null    object \n",
            " 9   300_did_not_find                          115 non-null    object \n",
            " 10  237_distance_household_interviewee        115 non-null    object \n",
            " 11  299_means_transportation_consumer         115 non-null    object \n",
            " 12  238_frequency_buying_store                115 non-null    int64  \n",
            " 13  284_additional_products_store             115 non-null    object \n",
            " 14  301_electricity_bill                      115 non-null    object \n",
            " 15  305_electricity_bill_store                115 non-null    object \n",
            " 16  302_water_bill                            115 non-null    object \n",
            " 17  306_water_bill_store                      115 non-null    object \n",
            " 18  303_gas_bill                              115 non-null    object \n",
            " 19  307_gas_bill_store                        115 non-null    object \n",
            " 20  286_topups                                115 non-null    object \n",
            " 21  308_topups_in_store                       115 non-null    object \n",
            " 22  287_wire_transfers                        115 non-null    object \n",
            " 23  309_wiretransfers_in_store                115 non-null    object \n",
            " 24  320_other_services_in_store               115 non-null    object \n",
            " 25  304_additional_services_store             115 non-null    object \n",
            " 26  81_number_online_purchases_month          115 non-null    int64  \n",
            " 27  288_number_app_purchases_month            115 non-null    int64  \n",
            " 28  289_number_whatsapp_purchases_month       115 non-null    int64  \n",
            " 29  83_willingness_ultrafast_delivery         115 non-null    int64  \n",
            " 30  84_willingness_sameday_delivery           115 non-null    int64  \n",
            " 31  241_age_of_the_interviewee                115 non-null    int64  \n",
            " 32  240_gender_interviewee                    115 non-null    object \n",
            " 33  indicate_the_type_of_store                115 non-null    object \n",
            " 34  name_of_the_store                         115 non-null    object \n",
            " 35  storefront_picture_just_once_if_possible  115 non-null    object \n",
            "dtypes: float64(2), int64(7), object(27)\n",
            "memory usage: 32.5+ KB\n"
          ]
        }
      ]
    },
    {
      "cell_type": "code",
      "source": [
        "#aplicamos filtro de columnas para filtrar las columnas con variables numéricas (se descartaron las columnas que muestran números de teléfono o folio) \n",
        "Consumers_Filtrado1=Consumers_Filtrado.iloc[:,[5,6,12,29,30,31]]#columnas no consecutivas\n",
        "Consumers_Filtrado1"
      ],
      "metadata": {
        "id": "asof-0lG24Jc"
      },
      "execution_count": null,
      "outputs": []
    },
    {
      "cell_type": "markdown",
      "source": [
        "APLICANDO METODO DE CUARTILES"
      ],
      "metadata": {
        "id": "9BMNK9Wy3ARS"
      }
    },
    {
      "cell_type": "code",
      "source": [
        "#Método aplicando Cuartiles. Encuentro cuartiles 0.25 y 0.75\n",
        "y=Consumers_Filtrado1\n",
        "\n",
        "percentile25=y.quantile(0.25) #Q1\n",
        "percentile75=y.quantile(0.75) #Q3\n",
        "iqr= percentile75 - percentile25\n",
        "\n",
        "Limite_Superior_iqr= percentile75 + 1.5*iqr\n",
        "Limite_Inferior_iqr= percentile25 - 1.5*iqr\n",
        "print(\"Limite superior permitido\", Limite_Superior_iqr)\n",
        "print(\"Limite inferior permitido\", Limite_Inferior_iqr)"
      ],
      "metadata": {
        "id": "1DHKIM993DRc"
      },
      "execution_count": null,
      "outputs": []
    },
    {
      "cell_type": "code",
      "source": [
        "#Encontramos Outliers del Dataframe\n",
        "outliers_iqr= Consumers_Filtrado1[(y>Limite_Superior_iqr)|(y<Limite_Inferior_iqr)]\n",
        "outliers_iqr"
      ],
      "metadata": {
        "id": "w7e9TIl23KPZ"
      },
      "execution_count": null,
      "outputs": []
    },
    {
      "cell_type": "code",
      "source": [
        "#Obtenemos datos limpios del Dataframe\n",
        "data3_iqr= Consumers_Filtrado1[(y<=Limite_Superior_iqr)&(y>=Limite_Inferior_iqr)]\n",
        "data3_iqr"
      ],
      "metadata": {
        "id": "kFlEQVG43NZI"
      },
      "execution_count": null,
      "outputs": []
    },
    {
      "cell_type": "code",
      "source": [
        "#Corroboramos valores nulos del dataframe LIMPIO\n",
        "valores_nulos=data3_iqr.isnull().sum()\n",
        "valores_nulos"
      ],
      "metadata": {
        "colab": {
          "base_uri": "https://localhost:8080/"
        },
        "id": "odWbR_jG3cfc",
        "outputId": "c84b00e5-9097-4e2d-a9c8-229f2a0dfb2f"
      },
      "execution_count": 48,
      "outputs": [
        {
          "output_type": "execute_result",
          "data": {
            "text/plain": [
              "_latitude                             0\n",
              "_longitude                            0\n",
              "238_frequency_buying_store            2\n",
              "83_willingness_ultrafast_delivery    10\n",
              "84_willingness_sameday_delivery       3\n",
              "241_age_of_the_interviewee            4\n",
              "dtype: int64"
            ]
          },
          "metadata": {},
          "execution_count": 48
        }
      ]
    },
    {
      "cell_type": "code",
      "source": [
        "#Reemplazamos valores atípicos (nulos) del dataframe con \"mean\"\n",
        "#Realizamos una copia del dataframe\n",
        "data4_iqr=data3_iqr.copy()\n",
        "data4_iqr=data4_iqr.fillna(round(data3_iqr.mean(),1))\n",
        "data4_iqr"
      ],
      "metadata": {
        "id": "_u4hzv813fs-"
      },
      "execution_count": null,
      "outputs": []
    },
    {
      "cell_type": "code",
      "source": [
        "Consumers_Filtrado2=data4_iqr.copy()"
      ],
      "metadata": {
        "id": "AlX8IA373jxt"
      },
      "execution_count": 50,
      "outputs": []
    },
    {
      "cell_type": "code",
      "source": [
        "#Corroboramos valores nulos del dataframe LIMPIO\n",
        "valores_nulos=Consumers_Filtrado2.isnull().sum()\n",
        "valores_nulos"
      ],
      "metadata": {
        "colab": {
          "base_uri": "https://localhost:8080/"
        },
        "id": "esMMT5n33mjZ",
        "outputId": "a7998a81-4286-4b45-9d98-8c64c6b297d4"
      },
      "execution_count": 51,
      "outputs": [
        {
          "output_type": "execute_result",
          "data": {
            "text/plain": [
              "_latitude                            0\n",
              "_longitude                           0\n",
              "238_frequency_buying_store           0\n",
              "83_willingness_ultrafast_delivery    0\n",
              "84_willingness_sameday_delivery      0\n",
              "241_age_of_the_interviewee           0\n",
              "dtype: int64"
            ]
          },
          "metadata": {},
          "execution_count": 51
        }
      ]
    },
    {
      "cell_type": "code",
      "source": [
        "#convertir a archivo xlsx\n",
        "Consumers_Filtrado2.to_excel(\"Consumer_Sin_Outliers.xlsx\")"
      ],
      "metadata": {
        "id": "nEkAC6OE3qWV"
      },
      "execution_count": 52,
      "outputs": []
    },
    {
      "cell_type": "code",
      "source": [
        "#descargar archivo filtrado en xlsx\n",
        "from google.colab import files\n",
        "files.download(\"Consumer_Sin_Outliers.xlsx\")"
      ],
      "metadata": {
        "colab": {
          "base_uri": "https://localhost:8080/",
          "height": 17
        },
        "id": "yS44iK6X3r0D",
        "outputId": "0df45510-4d76-4b60-c0c8-9e888d482165"
      },
      "execution_count": 53,
      "outputs": [
        {
          "output_type": "display_data",
          "data": {
            "text/plain": [
              "<IPython.core.display.Javascript object>"
            ],
            "application/javascript": [
              "\n",
              "    async function download(id, filename, size) {\n",
              "      if (!google.colab.kernel.accessAllowed) {\n",
              "        return;\n",
              "      }\n",
              "      const div = document.createElement('div');\n",
              "      const label = document.createElement('label');\n",
              "      label.textContent = `Downloading \"${filename}\": `;\n",
              "      div.appendChild(label);\n",
              "      const progress = document.createElement('progress');\n",
              "      progress.max = size;\n",
              "      div.appendChild(progress);\n",
              "      document.body.appendChild(div);\n",
              "\n",
              "      const buffers = [];\n",
              "      let downloaded = 0;\n",
              "\n",
              "      const channel = await google.colab.kernel.comms.open(id);\n",
              "      // Send a message to notify the kernel that we're ready.\n",
              "      channel.send({})\n",
              "\n",
              "      for await (const message of channel.messages) {\n",
              "        // Send a message to notify the kernel that we're ready.\n",
              "        channel.send({})\n",
              "        if (message.buffers) {\n",
              "          for (const buffer of message.buffers) {\n",
              "            buffers.push(buffer);\n",
              "            downloaded += buffer.byteLength;\n",
              "            progress.value = downloaded;\n",
              "          }\n",
              "        }\n",
              "      }\n",
              "      const blob = new Blob(buffers, {type: 'application/binary'});\n",
              "      const a = document.createElement('a');\n",
              "      a.href = window.URL.createObjectURL(blob);\n",
              "      a.download = filename;\n",
              "      div.appendChild(a);\n",
              "      a.click();\n",
              "      div.remove();\n",
              "    }\n",
              "  "
            ]
          },
          "metadata": {}
        },
        {
          "output_type": "display_data",
          "data": {
            "text/plain": [
              "<IPython.core.display.Javascript object>"
            ],
            "application/javascript": [
              "download(\"download_abc8fb4f-391f-4d7b-8c38-f324e383064d\", \"Consumer_Sin_Outliers.xlsx\", 10010)"
            ]
          },
          "metadata": {}
        }
      ]
    }
  ]
}